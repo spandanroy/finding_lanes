{
  "nbformat": 4,
  "nbformat_minor": 0,
  "metadata": {
    "colab": {
      "name": "finding_lanes.ipynb",
      "provenance": [],
      "collapsed_sections": []
    },
    "kernelspec": {
      "display_name": "Python 3",
      "name": "python3"
    },
    "language_info": {
      "name": "python"
    }
  },
  "cells": [
    {
      "cell_type": "code",
      "metadata": {
        "id": "FHIxEBRSvl9Y"
      },
      "source": [
        "import cv2\n",
        "from google.colab.patches import cv2_imshow\n",
        "import numpy as np\n",
        "import matplotlib.pyplot as plt"
      ],
      "execution_count": null,
      "outputs": []
    },
    {
      "cell_type": "code",
      "metadata": {
        "id": "1XZpUh-Ag_M-"
      },
      "source": [
        "!wget \"https://raw.githubusercontent.com/rslim087a/road-image/6b56f889e20871e1836b0045222d07dcea9ff8d6/test_image.jpg\"\n",
        "!wget \"https://raw.githubusercontent.com/rslim087a/road-video/master/test2.mp4\""
      ],
      "execution_count": null,
      "outputs": []
    },
    {
      "cell_type": "code",
      "metadata": {
        "id": "bBBQioeVwl_D"
      },
      "source": [
        "def make_coord(img,line_param):\n",
        "    slope,inter=line_param\n",
        "    y1=img.shape[0]\n",
        "    y2=int(y1*(1/2))\n",
        "    x1=int((y1-inter)/slope)\n",
        "    x2=int((y2-inter)/slope)\n",
        "    return np.array([x1,y1,x2,y2])"
      ],
      "execution_count": null,
      "outputs": []
    },
    {
      "cell_type": "code",
      "metadata": {
        "id": "E1JibN_s8EP7"
      },
      "source": [
        "def avg_slope_intercept(img,lines):\n",
        "\n",
        "    l_fit=[]\n",
        "    r_fit=[]\n",
        "\n",
        "    for line in lines:\n",
        "\n",
        "        x1,y1,x2,y2=line.reshape(4)\n",
        "        param=np.polyfit((x1,x2),(y1,y2),1)\n",
        "        slope=param[0]\n",
        "        inter=param[1]\n",
        "\n",
        "        if slope<0:\n",
        "            l_fit.append((slope,inter))\n",
        "        else:\n",
        "            r_fit.append((slope,inter))\n",
        "        \n",
        "    l_fit_avg=np.average(l_fit,axis=0)\n",
        "    r_fit_avg=np.average(r_fit,axis=0)\n",
        "\n",
        "    l_line=make_coord(img, l_fit_avg)\n",
        "    r_line=make_coord(img, r_fit_avg)\n",
        "\n",
        "    return np.array([l_line,r_line])"
      ],
      "execution_count": null,
      "outputs": []
    },
    {
      "cell_type": "code",
      "metadata": {
        "id": "simDSsLV2uhv"
      },
      "source": [
        "def edge_detect(img):\n",
        "    \n",
        "    gray=cv2.cvtColor(ln_img,cv2.COLOR_RGB2GRAY)\n",
        "    #blur=cv2.GaussianBlur(gray,(5,5),0)\n",
        "    canny=cv2.Canny(gray,50,150)\n",
        "    return canny"
      ],
      "execution_count": null,
      "outputs": []
    },
    {
      "cell_type": "code",
      "metadata": {
        "id": "RUttUX_H9tie"
      },
      "source": [
        "def reg_of_int(img):\n",
        "    \n",
        "    ht=img.shape[0]\n",
        "    pg=np.array([[(200,ht),(1100,ht),(550,250)]])\n",
        "    mask=np.zeros_like(img)\n",
        "    cv2.fillPoly(mask,pg,255)\n",
        "    mk_img=cv2.bitwise_and(img,mask)\n",
        "    return mk_img"
      ],
      "execution_count": null,
      "outputs": []
    },
    {
      "cell_type": "code",
      "metadata": {
        "id": "Kr8rpdh3Pyli"
      },
      "source": [
        "def disp_lines(img,lines):\n",
        "    line_img=np.zeros_like(img)\n",
        "\n",
        "    if lines is not None:\n",
        "\n",
        "        for line in lines:\n",
        "            x1,y1,x2,y2=line.reshape(4)\n",
        "            cv2.line(line_img,(x1,y1),(x2,y2),(255,0,0),10)\n",
        "    \n",
        "    return line_img      "
      ],
      "execution_count": null,
      "outputs": []
    },
    {
      "cell_type": "code",
      "metadata": {
        "id": "N9cbWkX71620"
      },
      "source": [
        "def det_lanes(image):\n",
        "    canny=edge_detect(image)\n",
        "    cp_img=reg_of_int(canny)\n",
        "    lines=cv2.HoughLinesP(cp_img,2,np.pi/180,100,np.array([]),minLineLength=40,maxLineGap=5)\n",
        "    avg_lines=avg_slope_intercept(image,lines)\n",
        "    line_img=disp_lines(image,avg_lines)\n",
        "\n",
        "    cmb_img=cv2.addWeighted(image,0.8,line_img,1,1)\n",
        "\n",
        "    cv2_imshow(cmb_img)"
      ],
      "execution_count": null,
      "outputs": []
    },
    {
      "cell_type": "code",
      "metadata": {
        "id": "cLNezA22wSKi"
      },
      "source": [
        "def det_image():\n",
        "    img=cv2.imread('test_image.jpg')\n",
        "    ln_img=np.copy(img)\n",
        "\n",
        "    det_lanes(ln_img)"
      ],
      "execution_count": null,
      "outputs": []
    },
    {
      "cell_type": "code",
      "metadata": {
        "colab": {
          "background_save": true
        },
        "id": "3RUwcuPp7qgV"
      },
      "source": [
        "def det_video():\n",
        "    cap=cv2.VideoCapture('test2.mp4')\n",
        "\n",
        "    while(cap.isOpened()):\n",
        "\n",
        "        _, frame=cap.read()\n",
        "\n",
        "        det_lanes(frame)\n",
        "\n",
        "        if cv2.waitKey(1) & 0xFF ==ord('q'):\n",
        "            break\n",
        "    cap.release()\n",
        "    cv2.destroyAllWindows()"
      ],
      "execution_count": null,
      "outputs": []
    }
  ]
}